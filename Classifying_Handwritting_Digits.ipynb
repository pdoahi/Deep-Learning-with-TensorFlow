{
  "nbformat": 4,
  "nbformat_minor": 0,
  "metadata": {
    "colab": {
      "provenance": [],
      "toc_visible": true,
      "collapsed_sections": []
    },
    "kernelspec": {
      "name": "python3",
      "display_name": "Python 3"
    },
    "language_info": {
      "name": "python"
    }
  },
  "cells": [
    {
      "cell_type": "markdown",
      "source": [
        "**Assignment 1** :\n",
        "  Classifying Handwritting digits "
      ],
      "metadata": {
        "id": "_oKu_ocPAyeP"
      }
    },
    {
      "cell_type": "markdown",
      "source": [
        "# Loading and Preparing the data"
      ],
      "metadata": {
        "id": "-gwAKaWIDM7z"
      }
    },
    {
      "cell_type": "code",
      "source": [
        "#Import Libraries\n",
        "import tensorflow as tf\n",
        "from tensorflow import keras "
      ],
      "metadata": {
        "id": "wTLWiFHDAbcy"
      },
      "execution_count": null,
      "outputs": []
    },
    {
      "cell_type": "code",
      "source": [
        "# Loading MNIST dataset\n",
        "mnist = keras.datasets.mnist \n",
        "(X_train, Y_train), (X_test, Y_test) = mnist.load_data()"
      ],
      "metadata": {
        "colab": {
          "base_uri": "https://localhost:8080/"
        },
        "id": "MLA-lqIjBN1x",
        "outputId": "525a09ae-3ccf-47a4-cc3d-8c409afeeda3"
      },
      "execution_count": null,
      "outputs": [
        {
          "output_type": "stream",
          "name": "stdout",
          "text": [
            "Downloading data from https://storage.googleapis.com/tensorflow/tf-keras-datasets/mnist.npz\n",
            "11493376/11490434 [==============================] - 0s 0us/step\n",
            "11501568/11490434 [==============================] - 0s 0us/step\n"
          ]
        }
      ]
    },
    {
      "cell_type": "code",
      "source": [
        "# Data Exploration\n",
        "print(X_train.shape)\n",
        "print(X_test.shape)"
      ],
      "metadata": {
        "colab": {
          "base_uri": "https://localhost:8080/"
        },
        "id": "qlaypeMBByYI",
        "outputId": "96e5c963-3e7d-422f-96ae-fa1789679bd3"
      },
      "execution_count": null,
      "outputs": [
        {
          "output_type": "stream",
          "name": "stdout",
          "text": [
            "(60000, 28, 28)\n",
            "(10000, 28, 28)\n"
          ]
        }
      ]
    },
    {
      "cell_type": "code",
      "source": [
        "# X_train is flattened to change the dimension\n",
        "RESHAPED = 784 # 28x28 = 784 neurons\n",
        "X_train = X_train.reshape(60000, RESHAPED) \n",
        "X_test = X_test.reshape(10000, RESHAPED) \n",
        "\n",
        "# Convert data type to float \n",
        "X_train = X_train.astype('float32')\n",
        "X_test = X_test.astype('float32') \n",
        "\n",
        "# Normalizing the input to be within the range [0,1]\n",
        "X_train /= 255\n",
        "#intensity of each pixel is divided by 255, the maximum intensity value\n",
        "X_test /= 255\n",
        "print(X_train.shape[0], 'train samples') \n",
        "print(X_test.shape[0], 'test samples') \n",
        "\n",
        "# One-hot representation of the labels.\n",
        "Y_train = tf.keras.utils.to_categorical(Y_train, 10) # 10 is the number of unique label\n",
        "Y_test = tf.keras.utils.to_categorical(Y_test, 10)\n"
      ],
      "metadata": {
        "colab": {
          "base_uri": "https://localhost:8080/"
        },
        "id": "kQ7t4DEGDx77",
        "outputId": "b70b226f-9389-4836-dc42-1d838237e039"
      },
      "execution_count": null,
      "outputs": [
        {
          "output_type": "stream",
          "name": "stdout",
          "text": [
            "60000 train samples\n",
            "10000 test samples\n"
          ]
        }
      ]
    },
    {
      "cell_type": "markdown",
      "source": [
        "#**Designing the model**"
      ],
      "metadata": {
        "id": "p79DQPfdGb11"
      }
    },
    {
      "cell_type": "markdown",
      "source": [
        "Model 0: Single Layer Perceptron"
      ],
      "metadata": {
        "id": "hA3NY0aKIccn"
      }
    },
    {
      "cell_type": "code",
      "source": [
        "import tensorflow as tf\n",
        "from tensorflow.keras.layers import Dense\n",
        "from tensorflow.keras import Sequential\n",
        "\n",
        "#No hidden layer\n",
        "model_0 = keras.models.Sequential()\n",
        "\n",
        "# Input arrays of shape (*, 784)\n",
        "model_0.add(keras.layers.Dense(10, activation='softmax')) \n",
        "\n",
        "# Compiling the model.\n",
        "model_0.compile(optimizer='SGD', \n",
        "              loss='categorical_crossentropy',\n",
        "              metrics=['accuracy'])\n"
      ],
      "metadata": {
        "id": "6iqtBtiSGzxV"
      },
      "execution_count": null,
      "outputs": []
    },
    {
      "cell_type": "code",
      "source": [
        "# Training the model. \n",
        "training = model_0.fit(X_train, Y_train, batch_size=64, epochs=70, validation_split=0.2) "
      ],
      "metadata": {
        "colab": {
          "base_uri": "https://localhost:8080/"
        },
        "id": "sZ_YdAb2RLs6",
        "outputId": "741048a0-e983-45a6-fc7d-110210a3eba5"
      },
      "execution_count": null,
      "outputs": [
        {
          "output_type": "stream",
          "name": "stdout",
          "text": [
            "Epoch 1/70\n",
            "750/750 [==============================] - 2s 2ms/step - loss: 1.0642 - accuracy: 0.7546 - val_loss: 0.6510 - val_accuracy: 0.8598\n",
            "Epoch 2/70\n",
            "750/750 [==============================] - 2s 2ms/step - loss: 0.6045 - accuracy: 0.8560 - val_loss: 0.5060 - val_accuracy: 0.8782\n",
            "Epoch 3/70\n",
            "750/750 [==============================] - 2s 2ms/step - loss: 0.5106 - accuracy: 0.8711 - val_loss: 0.4488 - val_accuracy: 0.8866\n",
            "Epoch 4/70\n",
            "750/750 [==============================] - 2s 2ms/step - loss: 0.4649 - accuracy: 0.8788 - val_loss: 0.4169 - val_accuracy: 0.8928\n",
            "Epoch 5/70\n",
            "750/750 [==============================] - 2s 2ms/step - loss: 0.4367 - accuracy: 0.8846 - val_loss: 0.3959 - val_accuracy: 0.8956\n",
            "Epoch 6/70\n",
            "750/750 [==============================] - 2s 2ms/step - loss: 0.4171 - accuracy: 0.8880 - val_loss: 0.3810 - val_accuracy: 0.8988\n",
            "Epoch 7/70\n",
            "750/750 [==============================] - 2s 2ms/step - loss: 0.4024 - accuracy: 0.8916 - val_loss: 0.3697 - val_accuracy: 0.9009\n",
            "Epoch 8/70\n",
            "750/750 [==============================] - 2s 2ms/step - loss: 0.3909 - accuracy: 0.8938 - val_loss: 0.3609 - val_accuracy: 0.9013\n",
            "Epoch 9/70\n",
            "750/750 [==============================] - 2s 2ms/step - loss: 0.3815 - accuracy: 0.8958 - val_loss: 0.3532 - val_accuracy: 0.9040\n",
            "Epoch 10/70\n",
            "750/750 [==============================] - 1s 2ms/step - loss: 0.3737 - accuracy: 0.8977 - val_loss: 0.3472 - val_accuracy: 0.9053\n",
            "Epoch 11/70\n",
            "750/750 [==============================] - 2s 2ms/step - loss: 0.3671 - accuracy: 0.8991 - val_loss: 0.3419 - val_accuracy: 0.9070\n",
            "Epoch 12/70\n",
            "750/750 [==============================] - 2s 2ms/step - loss: 0.3613 - accuracy: 0.9009 - val_loss: 0.3375 - val_accuracy: 0.9074\n",
            "Epoch 13/70\n",
            "750/750 [==============================] - 2s 2ms/step - loss: 0.3562 - accuracy: 0.9017 - val_loss: 0.3336 - val_accuracy: 0.9083\n",
            "Epoch 14/70\n",
            "750/750 [==============================] - 2s 2ms/step - loss: 0.3517 - accuracy: 0.9025 - val_loss: 0.3300 - val_accuracy: 0.9099\n",
            "Epoch 15/70\n",
            "750/750 [==============================] - 2s 2ms/step - loss: 0.3476 - accuracy: 0.9041 - val_loss: 0.3269 - val_accuracy: 0.9107\n",
            "Epoch 16/70\n",
            "750/750 [==============================] - 2s 2ms/step - loss: 0.3441 - accuracy: 0.9045 - val_loss: 0.3240 - val_accuracy: 0.9118\n",
            "Epoch 17/70\n",
            "750/750 [==============================] - 2s 2ms/step - loss: 0.3408 - accuracy: 0.9053 - val_loss: 0.3214 - val_accuracy: 0.9118\n",
            "Epoch 18/70\n",
            "750/750 [==============================] - 1s 2ms/step - loss: 0.3378 - accuracy: 0.9061 - val_loss: 0.3190 - val_accuracy: 0.9122\n",
            "Epoch 19/70\n",
            "750/750 [==============================] - 2s 2ms/step - loss: 0.3350 - accuracy: 0.9072 - val_loss: 0.3169 - val_accuracy: 0.9137\n",
            "Epoch 20/70\n",
            "750/750 [==============================] - 1s 2ms/step - loss: 0.3324 - accuracy: 0.9076 - val_loss: 0.3149 - val_accuracy: 0.9142\n",
            "Epoch 21/70\n",
            "750/750 [==============================] - 2s 2ms/step - loss: 0.3301 - accuracy: 0.9082 - val_loss: 0.3129 - val_accuracy: 0.9139\n",
            "Epoch 22/70\n",
            "750/750 [==============================] - 2s 2ms/step - loss: 0.3278 - accuracy: 0.9089 - val_loss: 0.3115 - val_accuracy: 0.9139\n",
            "Epoch 23/70\n",
            "750/750 [==============================] - 2s 2ms/step - loss: 0.3258 - accuracy: 0.9097 - val_loss: 0.3097 - val_accuracy: 0.9155\n",
            "Epoch 24/70\n",
            "750/750 [==============================] - 2s 2ms/step - loss: 0.3238 - accuracy: 0.9102 - val_loss: 0.3084 - val_accuracy: 0.9145\n",
            "Epoch 25/70\n",
            "750/750 [==============================] - 2s 2ms/step - loss: 0.3220 - accuracy: 0.9104 - val_loss: 0.3068 - val_accuracy: 0.9147\n",
            "Epoch 26/70\n",
            "750/750 [==============================] - 2s 2ms/step - loss: 0.3203 - accuracy: 0.9109 - val_loss: 0.3055 - val_accuracy: 0.9153\n",
            "Epoch 27/70\n",
            "750/750 [==============================] - 2s 2ms/step - loss: 0.3187 - accuracy: 0.9115 - val_loss: 0.3043 - val_accuracy: 0.9152\n",
            "Epoch 28/70\n",
            "750/750 [==============================] - 2s 2ms/step - loss: 0.3172 - accuracy: 0.9119 - val_loss: 0.3032 - val_accuracy: 0.9154\n",
            "Epoch 29/70\n",
            "750/750 [==============================] - 2s 2ms/step - loss: 0.3157 - accuracy: 0.9125 - val_loss: 0.3019 - val_accuracy: 0.9165\n",
            "Epoch 30/70\n",
            "750/750 [==============================] - 2s 2ms/step - loss: 0.3144 - accuracy: 0.9130 - val_loss: 0.3009 - val_accuracy: 0.9168\n",
            "Epoch 31/70\n",
            "750/750 [==============================] - 2s 3ms/step - loss: 0.3130 - accuracy: 0.9130 - val_loss: 0.3002 - val_accuracy: 0.9162\n",
            "Epoch 32/70\n",
            "750/750 [==============================] - 2s 2ms/step - loss: 0.3118 - accuracy: 0.9134 - val_loss: 0.2990 - val_accuracy: 0.9166\n",
            "Epoch 33/70\n",
            "750/750 [==============================] - 2s 2ms/step - loss: 0.3105 - accuracy: 0.9140 - val_loss: 0.2981 - val_accuracy: 0.9169\n",
            "Epoch 34/70\n",
            "750/750 [==============================] - 2s 2ms/step - loss: 0.3094 - accuracy: 0.9145 - val_loss: 0.2973 - val_accuracy: 0.9169\n",
            "Epoch 35/70\n",
            "750/750 [==============================] - 2s 2ms/step - loss: 0.3083 - accuracy: 0.9143 - val_loss: 0.2964 - val_accuracy: 0.9172\n",
            "Epoch 36/70\n",
            "750/750 [==============================] - 2s 2ms/step - loss: 0.3073 - accuracy: 0.9147 - val_loss: 0.2956 - val_accuracy: 0.9177\n",
            "Epoch 37/70\n",
            "750/750 [==============================] - 2s 2ms/step - loss: 0.3063 - accuracy: 0.9150 - val_loss: 0.2949 - val_accuracy: 0.9184\n",
            "Epoch 38/70\n",
            "750/750 [==============================] - 2s 2ms/step - loss: 0.3053 - accuracy: 0.9153 - val_loss: 0.2942 - val_accuracy: 0.9184\n",
            "Epoch 39/70\n",
            "750/750 [==============================] - 2s 2ms/step - loss: 0.3043 - accuracy: 0.9152 - val_loss: 0.2937 - val_accuracy: 0.9183\n",
            "Epoch 40/70\n",
            "750/750 [==============================] - 2s 2ms/step - loss: 0.3034 - accuracy: 0.9158 - val_loss: 0.2928 - val_accuracy: 0.9185\n",
            "Epoch 41/70\n",
            "750/750 [==============================] - 2s 2ms/step - loss: 0.3025 - accuracy: 0.9158 - val_loss: 0.2922 - val_accuracy: 0.9193\n",
            "Epoch 42/70\n",
            "750/750 [==============================] - 2s 2ms/step - loss: 0.3017 - accuracy: 0.9160 - val_loss: 0.2917 - val_accuracy: 0.9187\n",
            "Epoch 43/70\n",
            "750/750 [==============================] - 2s 2ms/step - loss: 0.3009 - accuracy: 0.9164 - val_loss: 0.2912 - val_accuracy: 0.9188\n",
            "Epoch 44/70\n",
            "750/750 [==============================] - 2s 2ms/step - loss: 0.3001 - accuracy: 0.9167 - val_loss: 0.2904 - val_accuracy: 0.9193\n",
            "Epoch 45/70\n",
            "750/750 [==============================] - 2s 2ms/step - loss: 0.2994 - accuracy: 0.9170 - val_loss: 0.2899 - val_accuracy: 0.9191\n",
            "Epoch 46/70\n",
            "750/750 [==============================] - 2s 2ms/step - loss: 0.2987 - accuracy: 0.9170 - val_loss: 0.2895 - val_accuracy: 0.9194\n",
            "Epoch 47/70\n",
            "750/750 [==============================] - 2s 2ms/step - loss: 0.2979 - accuracy: 0.9172 - val_loss: 0.2889 - val_accuracy: 0.9194\n",
            "Epoch 48/70\n",
            "750/750 [==============================] - 2s 2ms/step - loss: 0.2972 - accuracy: 0.9171 - val_loss: 0.2885 - val_accuracy: 0.9194\n",
            "Epoch 49/70\n",
            "750/750 [==============================] - 2s 2ms/step - loss: 0.2966 - accuracy: 0.9173 - val_loss: 0.2880 - val_accuracy: 0.9197\n",
            "Epoch 50/70\n",
            "750/750 [==============================] - 2s 2ms/step - loss: 0.2959 - accuracy: 0.9172 - val_loss: 0.2875 - val_accuracy: 0.9201\n",
            "Epoch 51/70\n",
            "750/750 [==============================] - 1s 2ms/step - loss: 0.2953 - accuracy: 0.9182 - val_loss: 0.2871 - val_accuracy: 0.9202\n",
            "Epoch 52/70\n",
            "750/750 [==============================] - 2s 2ms/step - loss: 0.2947 - accuracy: 0.9180 - val_loss: 0.2867 - val_accuracy: 0.9201\n",
            "Epoch 53/70\n",
            "750/750 [==============================] - 2s 2ms/step - loss: 0.2941 - accuracy: 0.9182 - val_loss: 0.2864 - val_accuracy: 0.9203\n",
            "Epoch 54/70\n",
            "750/750 [==============================] - 2s 2ms/step - loss: 0.2935 - accuracy: 0.9183 - val_loss: 0.2859 - val_accuracy: 0.9204\n",
            "Epoch 55/70\n",
            "750/750 [==============================] - 2s 2ms/step - loss: 0.2929 - accuracy: 0.9184 - val_loss: 0.2856 - val_accuracy: 0.9204\n",
            "Epoch 56/70\n",
            "750/750 [==============================] - 2s 2ms/step - loss: 0.2924 - accuracy: 0.9189 - val_loss: 0.2853 - val_accuracy: 0.9208\n",
            "Epoch 57/70\n",
            "750/750 [==============================] - 2s 2ms/step - loss: 0.2918 - accuracy: 0.9190 - val_loss: 0.2847 - val_accuracy: 0.9208\n",
            "Epoch 58/70\n",
            "750/750 [==============================] - 2s 2ms/step - loss: 0.2913 - accuracy: 0.9193 - val_loss: 0.2843 - val_accuracy: 0.9208\n",
            "Epoch 59/70\n",
            "750/750 [==============================] - 2s 2ms/step - loss: 0.2908 - accuracy: 0.9193 - val_loss: 0.2839 - val_accuracy: 0.9212\n",
            "Epoch 60/70\n",
            "750/750 [==============================] - 2s 2ms/step - loss: 0.2903 - accuracy: 0.9192 - val_loss: 0.2838 - val_accuracy: 0.9215\n",
            "Epoch 61/70\n",
            "750/750 [==============================] - 2s 2ms/step - loss: 0.2898 - accuracy: 0.9194 - val_loss: 0.2836 - val_accuracy: 0.9219\n",
            "Epoch 62/70\n",
            "750/750 [==============================] - 2s 2ms/step - loss: 0.2894 - accuracy: 0.9196 - val_loss: 0.2831 - val_accuracy: 0.9215\n",
            "Epoch 63/70\n",
            "750/750 [==============================] - 2s 2ms/step - loss: 0.2888 - accuracy: 0.9195 - val_loss: 0.2827 - val_accuracy: 0.9212\n",
            "Epoch 64/70\n",
            "750/750 [==============================] - 2s 2ms/step - loss: 0.2884 - accuracy: 0.9196 - val_loss: 0.2825 - val_accuracy: 0.9212\n",
            "Epoch 65/70\n",
            "750/750 [==============================] - 2s 2ms/step - loss: 0.2880 - accuracy: 0.9198 - val_loss: 0.2821 - val_accuracy: 0.9216\n",
            "Epoch 66/70\n",
            "750/750 [==============================] - 2s 2ms/step - loss: 0.2875 - accuracy: 0.9200 - val_loss: 0.2820 - val_accuracy: 0.9219\n",
            "Epoch 67/70\n",
            "750/750 [==============================] - 2s 2ms/step - loss: 0.2871 - accuracy: 0.9199 - val_loss: 0.2815 - val_accuracy: 0.9216\n",
            "Epoch 68/70\n",
            "750/750 [==============================] - 2s 2ms/step - loss: 0.2866 - accuracy: 0.9204 - val_loss: 0.2814 - val_accuracy: 0.9217\n",
            "Epoch 69/70\n",
            "750/750 [==============================] - 2s 2ms/step - loss: 0.2863 - accuracy: 0.9204 - val_loss: 0.2812 - val_accuracy: 0.9215\n",
            "Epoch 70/70\n",
            "750/750 [==============================] - 2s 2ms/step - loss: 0.2859 - accuracy: 0.9205 - val_loss: 0.2808 - val_accuracy: 0.9222\n"
          ]
        }
      ]
    },
    {
      "cell_type": "code",
      "source": [
        "import matplotlib.pyplot as plt\n",
        "%matplotlib inline\n",
        "# list all data in training\n",
        "print(training.history.keys())\n",
        "# summarize training for accuracy\n",
        "plt.plot(training.history['accuracy'])\n",
        "plt.plot(training.history['val_accuracy'])\n",
        "plt.title('model accuracy')\n",
        "plt.ylabel('accuracy')\n",
        "plt.xlabel('epoch')\n",
        "plt.legend(['train', 'test'], loc='upper left')\n",
        "plt.show()\n",
        "# summarize traning for loss\n",
        "plt.plot(training.history['loss'])\n",
        "plt.plot(training.history['val_loss'])\n",
        "plt.title('model loss')\n",
        "plt.ylabel('loss')\n",
        "plt.xlabel('epoch')\n",
        "plt.legend(['train', 'test'], loc='upper left')\n",
        "plt.show()"
      ],
      "metadata": {
        "colab": {
          "base_uri": "https://localhost:8080/",
          "height": 590
        },
        "id": "U-kHvgcOXGD4",
        "outputId": "a66ade28-de2e-40d3-f6fb-8c73ef0527df"
      },
      "execution_count": null,
      "outputs": [
        {
          "output_type": "stream",
          "name": "stdout",
          "text": [
            "dict_keys(['loss', 'accuracy', 'val_loss', 'val_accuracy'])\n"
          ]
        },
        {
          "output_type": "display_data",
          "data": {
            "text/plain": [
              "<Figure size 432x288 with 1 Axes>"
            ],
            "image/png": "[encoded data removed]"
          },
          "metadata": {
            "needs_background": "light"
          }
        },
        {
          "output_type": "display_data",
          "data": {
            "text/plain": [
              "<Figure size 432x288 with 1 Axes>"
            ],
            "image/png": "[encoded data removed]"
          },
          "metadata": {
            "needs_background": "light"
          }
        }
      ]
    },
    {
      "cell_type": "code",
      "source": [
        "#evaluate the model\n",
        "test_loss, test_acc = model_0.evaluate(X_test, Y_test)\n",
        "print('Test accuracy:', test_acc)"
      ],
      "metadata": {
        "colab": {
          "base_uri": "https://localhost:8080/"
        },
        "id": "Q73sAJOGgf3a",
        "outputId": "39b1c7ce-3ab1-411a-a082-ad14752f19b3"
      },
      "execution_count": null,
      "outputs": [
        {
          "output_type": "stream",
          "name": "stdout",
          "text": [
            "313/313 [==============================] - 0s 1ms/step - loss: 0.2827 - accuracy: 0.9223\n",
            "Test accuracy: 0.9222999811172485\n"
          ]
        }
      ]
    },
    {
      "cell_type": "markdown",
      "source": [
        "\n",
        "\n",
        "."
      ],
      "metadata": {
        "id": "HzQamzMGhDw1"
      }
    },
    {
      "cell_type": "markdown",
      "source": [
        "Model 1 : Multi Layer Perceptron"
      ],
      "metadata": {
        "id": "-eseePzIhTqA"
      }
    },
    {
      "cell_type": "code",
      "source": [
        "# Building model with 2 hidden layers\n",
        "from tensorflow.keras.layers import Dropout\n",
        "\n",
        "model_1 = keras.models.Sequential()\n",
        "model_1.add(keras.layers.Dense(200, activation='relu'))\n",
        "model_1.add(Dropout(0.3))\n",
        "\n",
        "model_1.add(keras.layers.Dense(100, activation='relu')) \n",
        "model_1.add(Dropout(0.3))\n",
        "\n",
        "model_1.add(keras.layers.Dense(10, activation='softmax'))  \n",
        "\n",
        "# Compiling the model.\n",
        "model_1.compile(optimizer='SGD', \n",
        "              loss='categorical_crossentropy',\n",
        "              metrics=['accuracy'])"
      ],
      "metadata": {
        "id": "5gaN_cIShAen"
      },
      "execution_count": null,
      "outputs": []
    },
    {
      "cell_type": "code",
      "source": [
        "# Training the model. \n",
        "training2 = model_1.fit(X_train, Y_train, batch_size=64, epochs=100, validation_split=0.2) "
      ],
      "metadata": {
        "colab": {
          "base_uri": "https://localhost:8080/"
        },
        "id": "pMiBtaf_jKEw",
        "outputId": "e515269b-b5ba-47f9-cada-1e4e983610f8"
      },
      "execution_count": null,
      "outputs": [
        {
          "output_type": "stream",
          "name": "stdout",
          "text": [
            "Epoch 1/100\n",
            "750/750 [==============================] - 4s 5ms/step - loss: 1.2548 - accuracy: 0.6054 - val_loss: 0.4979 - val_accuracy: 0.8779\n",
            "Epoch 2/100\n",
            "750/750 [==============================] - 4s 5ms/step - loss: 0.6085 - accuracy: 0.8170 - val_loss: 0.3469 - val_accuracy: 0.9081\n",
            "Epoch 3/100\n",
            "750/750 [==============================] - 4s 5ms/step - loss: 0.4843 - accuracy: 0.8570 - val_loss: 0.2953 - val_accuracy: 0.9180\n",
            "Epoch 4/100\n",
            "750/750 [==============================] - 4s 5ms/step - loss: 0.4187 - accuracy: 0.8748 - val_loss: 0.2657 - val_accuracy: 0.9252\n",
            "Epoch 5/100\n",
            "750/750 [==============================] - 4s 5ms/step - loss: 0.3785 - accuracy: 0.8890 - val_loss: 0.2433 - val_accuracy: 0.9297\n",
            "Epoch 6/100\n",
            "750/750 [==============================] - 4s 5ms/step - loss: 0.3477 - accuracy: 0.8979 - val_loss: 0.2266 - val_accuracy: 0.9338\n",
            "Epoch 7/100\n",
            "750/750 [==============================] - 4s 5ms/step - loss: 0.3207 - accuracy: 0.9050 - val_loss: 0.2142 - val_accuracy: 0.9370\n",
            "Epoch 8/100\n",
            "750/750 [==============================] - 4s 5ms/step - loss: 0.3030 - accuracy: 0.9115 - val_loss: 0.2013 - val_accuracy: 0.9414\n",
            "Epoch 9/100\n",
            "750/750 [==============================] - 4s 5ms/step - loss: 0.2861 - accuracy: 0.9148 - val_loss: 0.1904 - val_accuracy: 0.9443\n",
            "Epoch 10/100\n",
            "750/750 [==============================] - 3s 5ms/step - loss: 0.2712 - accuracy: 0.9199 - val_loss: 0.1821 - val_accuracy: 0.9467\n",
            "Epoch 11/100\n",
            "750/750 [==============================] - 4s 5ms/step - loss: 0.2584 - accuracy: 0.9241 - val_loss: 0.1742 - val_accuracy: 0.9501\n",
            "Epoch 12/100\n",
            "750/750 [==============================] - 4s 5ms/step - loss: 0.2463 - accuracy: 0.9276 - val_loss: 0.1681 - val_accuracy: 0.9516\n",
            "Epoch 13/100\n",
            "750/750 [==============================] - 4s 5ms/step - loss: 0.2387 - accuracy: 0.9300 - val_loss: 0.1608 - val_accuracy: 0.9534\n",
            "Epoch 14/100\n",
            "750/750 [==============================] - 4s 5ms/step - loss: 0.2318 - accuracy: 0.9319 - val_loss: 0.1557 - val_accuracy: 0.9550\n",
            "Epoch 15/100\n",
            "750/750 [==============================] - 4s 5ms/step - loss: 0.2211 - accuracy: 0.9347 - val_loss: 0.1509 - val_accuracy: 0.9557\n",
            "Epoch 16/100\n",
            "750/750 [==============================] - 4s 5ms/step - loss: 0.2142 - accuracy: 0.9375 - val_loss: 0.1458 - val_accuracy: 0.9573\n",
            "Epoch 17/100\n",
            "750/750 [==============================] - 4s 5ms/step - loss: 0.2098 - accuracy: 0.9378 - val_loss: 0.1432 - val_accuracy: 0.9588\n",
            "Epoch 18/100\n",
            "750/750 [==============================] - 4s 5ms/step - loss: 0.1991 - accuracy: 0.9418 - val_loss: 0.1388 - val_accuracy: 0.9592\n",
            "Epoch 19/100\n",
            "750/750 [==============================] - 4s 5ms/step - loss: 0.1957 - accuracy: 0.9434 - val_loss: 0.1341 - val_accuracy: 0.9605\n",
            "Epoch 20/100\n",
            "750/750 [==============================] - 4s 5ms/step - loss: 0.1867 - accuracy: 0.9444 - val_loss: 0.1309 - val_accuracy: 0.9605\n",
            "Epoch 21/100\n",
            "750/750 [==============================] - 4s 5ms/step - loss: 0.1869 - accuracy: 0.9452 - val_loss: 0.1288 - val_accuracy: 0.9615\n",
            "Epoch 22/100\n",
            "750/750 [==============================] - 4s 5ms/step - loss: 0.1786 - accuracy: 0.9475 - val_loss: 0.1249 - val_accuracy: 0.9635\n",
            "Epoch 23/100\n",
            "750/750 [==============================] - 4s 5ms/step - loss: 0.1760 - accuracy: 0.9485 - val_loss: 0.1229 - val_accuracy: 0.9645\n",
            "Epoch 24/100\n",
            "750/750 [==============================] - 4s 5ms/step - loss: 0.1704 - accuracy: 0.9505 - val_loss: 0.1207 - val_accuracy: 0.9642\n",
            "Epoch 25/100\n",
            "750/750 [==============================] - 4s 5ms/step - loss: 0.1681 - accuracy: 0.9509 - val_loss: 0.1179 - val_accuracy: 0.9646\n",
            "Epoch 26/100\n",
            "750/750 [==============================] - 4s 5ms/step - loss: 0.1627 - accuracy: 0.9526 - val_loss: 0.1161 - val_accuracy: 0.9660\n",
            "Epoch 27/100\n",
            "750/750 [==============================] - 4s 5ms/step - loss: 0.1596 - accuracy: 0.9534 - val_loss: 0.1148 - val_accuracy: 0.9662\n",
            "Epoch 28/100\n",
            "750/750 [==============================] - 4s 5ms/step - loss: 0.1547 - accuracy: 0.9549 - val_loss: 0.1123 - val_accuracy: 0.9668\n",
            "Epoch 29/100\n",
            "750/750 [==============================] - 4s 5ms/step - loss: 0.1506 - accuracy: 0.9557 - val_loss: 0.1100 - val_accuracy: 0.9678\n",
            "Epoch 30/100\n",
            "750/750 [==============================] - 4s 5ms/step - loss: 0.1479 - accuracy: 0.9558 - val_loss: 0.1086 - val_accuracy: 0.9678\n",
            "Epoch 31/100\n",
            "750/750 [==============================] - 4s 5ms/step - loss: 0.1425 - accuracy: 0.9587 - val_loss: 0.1060 - val_accuracy: 0.9688\n",
            "Epoch 32/100\n",
            "750/750 [==============================] - 4s 5ms/step - loss: 0.1426 - accuracy: 0.9587 - val_loss: 0.1053 - val_accuracy: 0.9682\n",
            "Epoch 33/100\n",
            "750/750 [==============================] - 4s 5ms/step - loss: 0.1402 - accuracy: 0.9592 - val_loss: 0.1043 - val_accuracy: 0.9684\n",
            "Epoch 34/100\n",
            "750/750 [==============================] - 4s 5ms/step - loss: 0.1368 - accuracy: 0.9597 - val_loss: 0.1025 - val_accuracy: 0.9694\n",
            "Epoch 35/100\n",
            "750/750 [==============================] - 4s 5ms/step - loss: 0.1347 - accuracy: 0.9605 - val_loss: 0.1007 - val_accuracy: 0.9699\n",
            "Epoch 36/100\n",
            "750/750 [==============================] - 4s 5ms/step - loss: 0.1309 - accuracy: 0.9616 - val_loss: 0.0999 - val_accuracy: 0.9697\n",
            "Epoch 37/100\n",
            "750/750 [==============================] - 4s 5ms/step - loss: 0.1285 - accuracy: 0.9627 - val_loss: 0.1000 - val_accuracy: 0.9696\n",
            "Epoch 38/100\n",
            "750/750 [==============================] - 4s 5ms/step - loss: 0.1273 - accuracy: 0.9625 - val_loss: 0.0978 - val_accuracy: 0.9710\n",
            "Epoch 39/100\n",
            "750/750 [==============================] - 4s 5ms/step - loss: 0.1228 - accuracy: 0.9649 - val_loss: 0.0973 - val_accuracy: 0.9709\n",
            "Epoch 40/100\n",
            "750/750 [==============================] - 4s 5ms/step - loss: 0.1225 - accuracy: 0.9642 - val_loss: 0.0954 - val_accuracy: 0.9719\n",
            "Epoch 41/100\n",
            "750/750 [==============================] - 4s 5ms/step - loss: 0.1196 - accuracy: 0.9642 - val_loss: 0.0957 - val_accuracy: 0.9720\n",
            "Epoch 42/100\n",
            "750/750 [==============================] - 4s 5ms/step - loss: 0.1160 - accuracy: 0.9654 - val_loss: 0.0943 - val_accuracy: 0.9718\n",
            "Epoch 43/100\n",
            "750/750 [==============================] - 4s 5ms/step - loss: 0.1185 - accuracy: 0.9648 - val_loss: 0.0932 - val_accuracy: 0.9721\n",
            "Epoch 44/100\n",
            "750/750 [==============================] - 4s 5ms/step - loss: 0.1136 - accuracy: 0.9675 - val_loss: 0.0920 - val_accuracy: 0.9727\n",
            "Epoch 45/100\n",
            "750/750 [==============================] - 4s 5ms/step - loss: 0.1154 - accuracy: 0.9661 - val_loss: 0.0909 - val_accuracy: 0.9730\n",
            "Epoch 46/100\n",
            "750/750 [==============================] - 4s 5ms/step - loss: 0.1107 - accuracy: 0.9672 - val_loss: 0.0906 - val_accuracy: 0.9729\n",
            "Epoch 47/100\n",
            "750/750 [==============================] - 4s 5ms/step - loss: 0.1077 - accuracy: 0.9688 - val_loss: 0.0897 - val_accuracy: 0.9730\n",
            "Epoch 48/100\n",
            "750/750 [==============================] - 4s 5ms/step - loss: 0.1073 - accuracy: 0.9679 - val_loss: 0.0893 - val_accuracy: 0.9737\n",
            "Epoch 49/100\n",
            "750/750 [==============================] - 4s 5ms/step - loss: 0.1062 - accuracy: 0.9690 - val_loss: 0.0885 - val_accuracy: 0.9737\n",
            "Epoch 50/100\n",
            "750/750 [==============================] - 3s 5ms/step - loss: 0.1061 - accuracy: 0.9695 - val_loss: 0.0881 - val_accuracy: 0.9738\n",
            "Epoch 51/100\n",
            "750/750 [==============================] - 4s 5ms/step - loss: 0.1027 - accuracy: 0.9696 - val_loss: 0.0864 - val_accuracy: 0.9740\n",
            "Epoch 52/100\n",
            "750/750 [==============================] - 4s 5ms/step - loss: 0.1037 - accuracy: 0.9695 - val_loss: 0.0866 - val_accuracy: 0.9740\n",
            "Epoch 53/100\n",
            "750/750 [==============================] - 4s 5ms/step - loss: 0.1002 - accuracy: 0.9696 - val_loss: 0.0862 - val_accuracy: 0.9750\n",
            "Epoch 54/100\n",
            "750/750 [==============================] - 4s 5ms/step - loss: 0.0999 - accuracy: 0.9702 - val_loss: 0.0862 - val_accuracy: 0.9743\n",
            "Epoch 55/100\n",
            "750/750 [==============================] - 4s 5ms/step - loss: 0.0976 - accuracy: 0.9711 - val_loss: 0.0849 - val_accuracy: 0.9755\n",
            "Epoch 56/100\n",
            "750/750 [==============================] - 4s 5ms/step - loss: 0.0970 - accuracy: 0.9715 - val_loss: 0.0857 - val_accuracy: 0.9747\n",
            "Epoch 57/100\n",
            "750/750 [==============================] - 4s 5ms/step - loss: 0.0943 - accuracy: 0.9725 - val_loss: 0.0835 - val_accuracy: 0.9754\n",
            "Epoch 58/100\n",
            "750/750 [==============================] - 3s 5ms/step - loss: 0.0943 - accuracy: 0.9716 - val_loss: 0.0837 - val_accuracy: 0.9755\n",
            "Epoch 59/100\n",
            "750/750 [==============================] - 3s 5ms/step - loss: 0.0928 - accuracy: 0.9722 - val_loss: 0.0832 - val_accuracy: 0.9756\n",
            "Epoch 60/100\n",
            "750/750 [==============================] - 4s 5ms/step - loss: 0.0898 - accuracy: 0.9738 - val_loss: 0.0827 - val_accuracy: 0.9761\n",
            "Epoch 61/100\n",
            "750/750 [==============================] - 4s 5ms/step - loss: 0.0916 - accuracy: 0.9727 - val_loss: 0.0824 - val_accuracy: 0.9758\n",
            "Epoch 62/100\n",
            "750/750 [==============================] - 4s 5ms/step - loss: 0.0898 - accuracy: 0.9729 - val_loss: 0.0816 - val_accuracy: 0.9760\n",
            "Epoch 63/100\n",
            "750/750 [==============================] - 4s 5ms/step - loss: 0.0887 - accuracy: 0.9733 - val_loss: 0.0820 - val_accuracy: 0.9762\n",
            "Epoch 64/100\n",
            "750/750 [==============================] - 4s 5ms/step - loss: 0.0877 - accuracy: 0.9747 - val_loss: 0.0810 - val_accuracy: 0.9759\n",
            "Epoch 65/100\n",
            "750/750 [==============================] - 4s 5ms/step - loss: 0.0852 - accuracy: 0.9743 - val_loss: 0.0810 - val_accuracy: 0.9762\n",
            "Epoch 66/100\n",
            "750/750 [==============================] - 4s 5ms/step - loss: 0.0856 - accuracy: 0.9746 - val_loss: 0.0806 - val_accuracy: 0.9768\n",
            "Epoch 67/100\n",
            "750/750 [==============================] - 4s 5ms/step - loss: 0.0861 - accuracy: 0.9746 - val_loss: 0.0804 - val_accuracy: 0.9763\n",
            "Epoch 68/100\n",
            "750/750 [==============================] - 4s 5ms/step - loss: 0.0848 - accuracy: 0.9746 - val_loss: 0.0806 - val_accuracy: 0.9759\n",
            "Epoch 69/100\n",
            "750/750 [==============================] - 4s 5ms/step - loss: 0.0829 - accuracy: 0.9745 - val_loss: 0.0801 - val_accuracy: 0.9767\n",
            "Epoch 70/100\n",
            "750/750 [==============================] - 4s 5ms/step - loss: 0.0806 - accuracy: 0.9758 - val_loss: 0.0796 - val_accuracy: 0.9769\n",
            "Epoch 71/100\n",
            "750/750 [==============================] - 4s 5ms/step - loss: 0.0826 - accuracy: 0.9753 - val_loss: 0.0787 - val_accuracy: 0.9769\n",
            "Epoch 72/100\n",
            "750/750 [==============================] - 4s 5ms/step - loss: 0.0788 - accuracy: 0.9762 - val_loss: 0.0793 - val_accuracy: 0.9764\n",
            "Epoch 73/100\n",
            "750/750 [==============================] - 4s 5ms/step - loss: 0.0758 - accuracy: 0.9767 - val_loss: 0.0798 - val_accuracy: 0.9776\n",
            "Epoch 74/100\n",
            "750/750 [==============================] - 4s 5ms/step - loss: 0.0782 - accuracy: 0.9761 - val_loss: 0.0782 - val_accuracy: 0.9770\n",
            "Epoch 75/100\n",
            "750/750 [==============================] - 4s 5ms/step - loss: 0.0775 - accuracy: 0.9763 - val_loss: 0.0778 - val_accuracy: 0.9765\n",
            "Epoch 76/100\n",
            "750/750 [==============================] - 4s 5ms/step - loss: 0.0765 - accuracy: 0.9774 - val_loss: 0.0773 - val_accuracy: 0.9772\n",
            "Epoch 77/100\n",
            "750/750 [==============================] - 4s 5ms/step - loss: 0.0753 - accuracy: 0.9771 - val_loss: 0.0781 - val_accuracy: 0.9769\n",
            "Epoch 78/100\n",
            "750/750 [==============================] - 4s 5ms/step - loss: 0.0741 - accuracy: 0.9781 - val_loss: 0.0776 - val_accuracy: 0.9770\n",
            "Epoch 79/100\n",
            "750/750 [==============================] - 4s 5ms/step - loss: 0.0727 - accuracy: 0.9780 - val_loss: 0.0768 - val_accuracy: 0.9782\n",
            "Epoch 80/100\n",
            "750/750 [==============================] - 4s 5ms/step - loss: 0.0716 - accuracy: 0.9783 - val_loss: 0.0775 - val_accuracy: 0.9778\n",
            "Epoch 81/100\n",
            "750/750 [==============================] - 4s 5ms/step - loss: 0.0726 - accuracy: 0.9779 - val_loss: 0.0772 - val_accuracy: 0.9780\n",
            "Epoch 82/100\n",
            "750/750 [==============================] - 4s 5ms/step - loss: 0.0724 - accuracy: 0.9779 - val_loss: 0.0766 - val_accuracy: 0.9771\n",
            "Epoch 83/100\n",
            "750/750 [==============================] - 4s 5ms/step - loss: 0.0681 - accuracy: 0.9798 - val_loss: 0.0769 - val_accuracy: 0.9778\n",
            "Epoch 84/100\n",
            "750/750 [==============================] - 4s 5ms/step - loss: 0.0710 - accuracy: 0.9786 - val_loss: 0.0765 - val_accuracy: 0.9782\n",
            "Epoch 85/100\n",
            "750/750 [==============================] - 4s 5ms/step - loss: 0.0685 - accuracy: 0.9789 - val_loss: 0.0759 - val_accuracy: 0.9780\n",
            "Epoch 86/100\n",
            "750/750 [==============================] - 4s 5ms/step - loss: 0.0681 - accuracy: 0.9791 - val_loss: 0.0759 - val_accuracy: 0.9780\n",
            "Epoch 87/100\n",
            "750/750 [==============================] - 4s 5ms/step - loss: 0.0694 - accuracy: 0.9789 - val_loss: 0.0764 - val_accuracy: 0.9783\n",
            "Epoch 88/100\n",
            "750/750 [==============================] - 4s 5ms/step - loss: 0.0686 - accuracy: 0.9790 - val_loss: 0.0762 - val_accuracy: 0.9780\n",
            "Epoch 89/100\n",
            "750/750 [==============================] - 4s 5ms/step - loss: 0.0684 - accuracy: 0.9788 - val_loss: 0.0761 - val_accuracy: 0.9775\n",
            "Epoch 90/100\n",
            "750/750 [==============================] - 4s 5ms/step - loss: 0.0660 - accuracy: 0.9796 - val_loss: 0.0751 - val_accuracy: 0.9783\n",
            "Epoch 91/100\n",
            "750/750 [==============================] - 4s 5ms/step - loss: 0.0666 - accuracy: 0.9798 - val_loss: 0.0750 - val_accuracy: 0.9783\n",
            "Epoch 92/100\n",
            "750/750 [==============================] - 4s 5ms/step - loss: 0.0651 - accuracy: 0.9797 - val_loss: 0.0752 - val_accuracy: 0.9781\n",
            "Epoch 93/100\n",
            "750/750 [==============================] - 4s 5ms/step - loss: 0.0638 - accuracy: 0.9804 - val_loss: 0.0746 - val_accuracy: 0.9785\n",
            "Epoch 94/100\n",
            "750/750 [==============================] - 5s 6ms/step - loss: 0.0639 - accuracy: 0.9810 - val_loss: 0.0743 - val_accuracy: 0.9785\n",
            "Epoch 95/100\n",
            "750/750 [==============================] - 4s 5ms/step - loss: 0.0635 - accuracy: 0.9804 - val_loss: 0.0745 - val_accuracy: 0.9783\n",
            "Epoch 96/100\n",
            "750/750 [==============================] - 4s 5ms/step - loss: 0.0626 - accuracy: 0.9814 - val_loss: 0.0749 - val_accuracy: 0.9788\n",
            "Epoch 97/100\n",
            "750/750 [==============================] - 4s 5ms/step - loss: 0.0637 - accuracy: 0.9804 - val_loss: 0.0748 - val_accuracy: 0.9788\n",
            "Epoch 98/100\n",
            "750/750 [==============================] - 4s 5ms/step - loss: 0.0625 - accuracy: 0.9805 - val_loss: 0.0739 - val_accuracy: 0.9785\n",
            "Epoch 99/100\n",
            "750/750 [==============================] - 4s 5ms/step - loss: 0.0610 - accuracy: 0.9813 - val_loss: 0.0745 - val_accuracy: 0.9789\n",
            "Epoch 100/100\n",
            "750/750 [==============================] - 4s 5ms/step - loss: 0.0620 - accuracy: 0.9807 - val_loss: 0.0740 - val_accuracy: 0.9793\n"
          ]
        }
      ]
    },
    {
      "cell_type": "code",
      "source": [
        "import matplotlib.pyplot as plt\n",
        "%matplotlib inline\n",
        "# list all data in training\n",
        "print(training2.history.keys())\n",
        "# summarize training for accuracy\n",
        "plt.plot(training2.history['accuracy'])\n",
        "plt.plot(training2.history['val_accuracy'])\n",
        "plt.title('model accuracy')\n",
        "plt.ylabel('accuracy')\n",
        "plt.xlabel('epoch')\n",
        "plt.legend(['train', 'test'], loc='upper left')\n",
        "plt.show()\n",
        "# summarize traning for loss\n",
        "plt.plot(training2.history['loss'])\n",
        "plt.plot(training2.history['val_loss'])\n",
        "plt.title('model loss')\n",
        "plt.ylabel('loss')\n",
        "plt.xlabel('epoch')\n",
        "plt.legend(['train', 'test'], loc='upper left')\n",
        "plt.show()"
      ],
      "metadata": {
        "colab": {
          "base_uri": "https://localhost:8080/",
          "height": 590
        },
        "id": "hHIEWGpwkC3T",
        "outputId": "62143e9a-562e-479c-c1b6-70ac94150a7a"
      },
      "execution_count": null,
      "outputs": [
        {
          "output_type": "stream",
          "name": "stdout",
          "text": [
            "dict_keys(['loss', 'accuracy', 'val_loss', 'val_accuracy'])\n"
          ]
        },
        {
          "output_type": "display_data",
          "data": {
            "text/plain": [
              "<Figure size 432x288 with 1 Axes>"
            ],
            "image/png": "[encoded data removed]"
          },
          "metadata": {
            "needs_background": "light"
          }
        },
        {
          "output_type": "display_data",
          "data": {
            "text/plain": [
              "<Figure size 432x288 with 1 Axes>"
            ],
            "image/png": "[encoded data removed]"
          },
          "metadata": {
            "needs_background": "light"
          }
        }
      ]
    },
    {
      "cell_type": "code",
      "source": [
        "#evaluate the model\n",
        "test_loss, test_acc = model_1.evaluate(X_test, Y_test)\n",
        "print('Test accuracy:', test_acc)"
      ],
      "metadata": {
        "colab": {
          "base_uri": "https://localhost:8080/"
        },
        "id": "p5AAEYcgy3-4",
        "outputId": "8f3a9b2e-8a98-4eb9-a7ae-61404283a660"
      },
      "execution_count": null,
      "outputs": [
        {
          "output_type": "stream",
          "name": "stdout",
          "text": [
            "313/313 [==============================] - 1s 2ms/step - loss: 0.0672 - accuracy: 0.9800\n",
            "Test accuracy: 0.9800000190734863\n"
          ]
        }
      ]
    },
    {
      "cell_type": "code",
      "source": [],
      "metadata": {
        "id": "qfcQ1jZoy38N"
      },
      "execution_count": null,
      "outputs": []
    }
  ]
}